{
  "nbformat": 4,
  "nbformat_minor": 0,
  "metadata": {
    "colab": {
      "name": "mid_exam_py13.ipynb",
      "provenance": [],
      "collapsed_sections": [],
      "authorship_tag": "ABX9TyPf5skRgyWhTAoDB6Xm9lGI",
      "include_colab_link": true
    },
    "kernelspec": {
      "name": "python3",
      "display_name": "Python 3"
    }
  },
  "cells": [
    {
      "cell_type": "markdown",
      "metadata": {
        "id": "view-in-github",
        "colab_type": "text"
      },
      "source": [
        "<a href=\"https://colab.research.google.com/github/py13taehun/py13/blob/master/mid_exam_py13.ipynb\" target=\"_parent\"><img src=\"https://colab.research.google.com/assets/colab-badge.svg\" alt=\"Open In Colab\"/></a>"
      ]
    },
    {
      "cell_type": "markdown",
      "metadata": {
        "id": "xSsDsMZYT3n6",
        "colab_type": "text"
      },
      "source": [
        "## 파이썬활용 중간고사 풀이\n",
        "\n"
      ]
    },
    {
      "cell_type": "markdown",
      "metadata": {
        "id": "dawukCNWUaEe",
        "colab_type": "text"
      },
      "source": [
        "### 문제1.다음 식의 연산 결과는?"
      ]
    },
    {
      "cell_type": "code",
      "metadata": {
        "id": "hB0rHdK2U4xf",
        "colab_type": "code",
        "colab": {}
      },
      "source": [
        "        a = 5\n",
        "        b = 3\n",
        "        a**b"
      ],
      "execution_count": 0,
      "outputs": []
    },
    {
      "cell_type": "code",
      "metadata": {
        "id": "060UMXfiZbrX",
        "colab_type": "code",
        "colab": {}
      },
      "source": [
        "5**3은 5의 세제곱을 나타내는 코드이기 때문에 답은 125입니다."
      ],
      "execution_count": 0,
      "outputs": []
    },
    {
      "cell_type": "markdown",
      "metadata": {
        "id": "ey8Gc_35Zo4t",
        "colab_type": "text"
      },
      "source": [
        "### 문제2. 다음 문자열 a에 대하여 슬라이싱을 한 결과는? a=\"Life is too short, You need python!\""
      ]
    },
    {
      "cell_type": "code",
      "metadata": {
        "id": "tI7kzX-YZ9jU",
        "colab_type": "code",
        "colab": {}
      },
      "source": [
        "a = \"Life is too short,you need Python!\"\n",
        "a[-16:-8] \n",
        "\n",
        "# -16은 Y부터를 나타내고 있고, -8은 d까지를 나타내고 있습니다. 그래서 \"You need\"가 결과로 나옵니다."
      ],
      "execution_count": 0,
      "outputs": []
    },
    {
      "cell_type": "markdown",
      "metadata": {
        "id": "FGDX9VRAazQ0",
        "colab_type": "text"
      },
      "source": [
        "### 문제3. 다음 list a의 인덱싱 결과는?"
      ]
    },
    {
      "cell_type": "code",
      "metadata": {
        "id": "VTn2aUi1a_V7",
        "colab_type": "code",
        "colab": {}
      },
      "source": [
        "a = [1, 2, (3, 4),['a', 'b',['My','Life', 'Good']]]\n",
        "a[3][-1][0] \n",
        "# a[3]은 ['a', 'b',['My','Life', 'Good']]]를 나타냅니다.\n",
        "# a[-1]은 뒤에서부터 세서 ['My','Life', 'Good']입니다.\n",
        "# a[0]은 'My'를 나타냅니다.\n",
        "# 따라서 답은 'My'입니다."
      ],
      "execution_count": 0,
      "outputs": []
    },
    {
      "cell_type": "markdown",
      "metadata": {
        "id": "-NApqBukbhTL",
        "colab_type": "text"
      },
      "source": [
        "### 문제4. 다음 tuple t1의 슬라이싱 결과는?"
      ]
    },
    {
      "cell_type": "code",
      "metadata": {
        "id": "LQ07D3Ucbi3r",
        "colab_type": "code",
        "colab": {}
      },
      "source": [
        "t1 = (0, 1, \"s\", \"t\", \"u\")\n",
        "t1[2:-2] \n",
        "# 슬라이싱을 하게 되면 결과가 ('s',)로 나옵니다. 그러나 튜플은 한 개의 요소만 가질경우 콤마(,)를 붙여야 하기 때문입니다."
      ],
      "execution_count": 0,
      "outputs": []
    },
    {
      "cell_type": "markdown",
      "metadata": {
        "id": "rNOBKutHbZeq",
        "colab_type": "text"
      },
      "source": [
        "### 문제5. 다음 bool 값 출력 중 정확한 것은?"
      ]
    },
    {
      "cell_type": "code",
      "metadata": {
        "id": "cNEIo_eccgMz",
        "colab_type": "code",
        "colab": {}
      },
      "source": [
        "bool([0,1,2]),bool([0]), bool((0)), bool((0,))\n",
        "# 첫번째와 두번째는 []안에 값이 들어있기 때문에 참 이고, 세번째는 ()안에 빈 문자열이기 때문에 거짓 이고,\n",
        "# 마지막은 0,가 있어서 빈 문자열이 아니므로 참이 나옵니다.\n"
      ],
      "execution_count": 0,
      "outputs": []
    },
    {
      "cell_type": "markdown",
      "metadata": {
        "id": "6RCJ6-hLcxiP",
        "colab_type": "text"
      },
      "source": [
        "### 문제6. 다음 조건문을 1줄 코드로 변경하시오."
      ]
    },
    {
      "cell_type": "code",
      "metadata": {
        "id": "zQOitcejc-mE",
        "colab_type": "code",
        "colab": {}
      },
      "source": [
        "score = 80\n",
        "if score>= 60:\n",
        "  message = \"success\"\n",
        "else:\n",
        "  message = \"failure\"\n",
        "# 파이썬의 조건부 표현식을 사용하면 1줄 코드로 바꿀 수 있습니다.\n",
        "# message = \"success\" if score>=60 else \"failure\""
      ],
      "execution_count": 0,
      "outputs": []
    },
    {
      "cell_type": "markdown",
      "metadata": {
        "id": "ISDLZhLpeh14",
        "colab_type": "text"
      },
      "source": [
        "### 문제7. 다음 코드의 실행 결과는?"
      ]
    },
    {
      "cell_type": "code",
      "metadata": {
        "id": "p3Gn2RQ5el2J",
        "colab_type": "code",
        "colab": {}
      },
      "source": [
        "games = [\"A\", \"B\", \"C\"]\n",
        "\n",
        "for cnt in range(len(games)):\n",
        "  print(cnt, games[cnt], end=',')\n",
        "  # games의 길이를 숫자로 cnt에 대입합니다.\n",
        "  # cnt숫자 0부터 2 까지를 출력하는 사이에 \"games\"문자를 넣어주고 \"end\"에는 ','를 붙여야 합니다\n"
      ],
      "execution_count": 0,
      "outputs": []
    },
    {
      "cell_type": "markdown",
      "metadata": {
        "id": "ABQ3I3RYfKyz",
        "colab_type": "text"
      },
      "source": [
        "### 문제8. 다음의 결과가 출력되지 않은 것은? 'I ate 10 apples, so I was sick for three days.'"
      ]
    },
    {
      "cell_type": "code",
      "metadata": {
        "id": "fzlC2tOjfSMq",
        "colab_type": "code",
        "colab": {}
      },
      "source": [
        "# code start\n",
        "number= 10\n",
        "day= \"three\"\n",
        "#\"I ate {0} apples. so I was sick for {1} days\", format(10, day) \n",
        "#f\"I ate {number} apples. so I was sick for {day} days.\"\n",
        "#f\"I ate {number} apples. so I was sick for {'three'} days.\"\n",
        "#\"I ate {0} apples. so I was sick for {1} days.\", format(number=10, day) format 함수의 입력값이 number만 설정 되어 있어서 오류가 납니다."
      ],
      "execution_count": 0,
      "outputs": []
    },
    {
      "cell_type": "markdown",
      "metadata": {
        "id": "pWROXedMgrma",
        "colab_type": "text"
      },
      "source": [
        "### 문제9. 리스트 내포를 사용해 1부터 1000이하의 자연수 중 5의 배수의 합을 구하는 한 줄 코드를 작성하시오."
      ]
    },
    {
      "cell_type": "code",
      "metadata": {
        "id": "mbSGi-vZgwxa",
        "colab_type": "code",
        "colab": {}
      },
      "source": [
        "sum([num for num in range(1,1001) if num % 5 ==0])\n",
        "#1 부터 1000까지 범위 안이고, num % 5 == 0 : 5로 나눈 나머지가 0이면 5의 배수입니다."
      ],
      "execution_count": 0,
      "outputs": []
    },
    {
      "cell_type": "markdown",
      "metadata": {
        "id": "K5DLjsDdhIFg",
        "colab_type": "text"
      },
      "source": [
        "### 문제10. 4개 과목의 평균 성적을 구하시오. [a],[b]에 적합한 코드는?"
      ]
    },
    {
      "cell_type": "code",
      "metadata": {
        "id": "aAPUnWE6hMYA",
        "colab_type": "code",
        "colab": {}
      },
      "source": [
        "subjects = ['python', 'english', 'math', 'science']\n",
        "scores = [88, 77, 66, 95]\n",
        "total = 0\n",
        "\n",
        "for subject, score in zip(subjects, scores):\n",
        "  total += score\n",
        "  print(subject, score)\n",
        "\n",
        "print(\"평균점수 = (0)\", format(total/len(subjects)))\n",
        "#python 88\n",
        "#english 77\n",
        "#math 66\n",
        "#science 95\n",
        "#따라서 평균점수 = (0) 81.5\n"
      ],
      "execution_count": 0,
      "outputs": []
    }
  ]
}